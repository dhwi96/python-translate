{
 "cells": [
  {
   "cell_type": "code",
   "execution_count": 4,
   "metadata": {},
   "outputs": [
    {
     "name": "stdout",
     "output_type": "stream",
     "text": [
      "우리는 빛이 항상 들어가는 것처럼 생각하는데 익숙하다.\n",
      "일직선 하지만 그렇지 않습니다. 이것은 당신이 볼 때 명백하다.\n",
      "무더운 날 길고 곧은 고속도로를 신기루하다 길이 보인다.\n",
      "하늘에서 오는 빛이 굴절되어 구부러지기 때문에 훨씬 앞쪽으로 젖는다.\n",
      "그것이 많은 연속적인 따뜻한 공기의 층들을 가로질러서\n",
      "도로 표면, 다시 눈으로 향할 때까지\n",
      "\n",
      " \n",
      "\n",
      "프랑스의 수학자 피에르 드 페르마는\n",
      "이 현상을 이해하는 또 다른 방법 빛은 이동한다.\n",
      "차가운 공기보다 따뜻하고 밀도가 낮은 공기에서 더 빠르다.\n",
      "가장 따뜻한 공기는 표면 가까이에 있기 때문에 빛은\n",
      "만약 당신의 눈 가까이에 그것이 아래로 이동한다면 당신의 눈에 도달하는 시간이 줄어든다.\n",
      "땅을 갈고 나서 당신의 눈으로 되돌아간다. 그것이 만약 그랬을 것이다.\n",
      "네 눈에 바로 직선으로 들어왔어 페르마\n",
      "라고 하는 원칙을 정하여, 그것을 정하다.\n",
      "\n",
      "광선의 궁극적인 경로, 당신은 단지 모든 것을 검사할 필요가 있다.\n",
      "A에서 B로 갈 수 있는 길을 찾아서\n",
      "최소한의 시간\n"
     ]
    }
   ],
   "source": [
    "import os \n",
    "import sys\n",
    "import urllib.request\n",
    "import requests\n",
    "import pytesseract\n",
    "\n",
    "try:\n",
    "    from PIL import Image\n",
    "except ImportError:\n",
    "    import Image\n",
    "import pytesseract\n",
    "\n",
    "client_id = \"JNAr5RgneZf1u7WBscNy\"\n",
    "client_secret = \"wHdSYpjDhI\"\n",
    "\n",
    "encText = pytesseract.image_to_string(Image.open(r'C:\\Users\\COMPUTER\\Desktop\\notitle.jpg'))\n",
    "\n",
    "url = \"https://openapi.naver.com/v1/papago/n2mt\"\n",
    "\n",
    "headers = {\"X-Naver-Client-Id\" :client_id,\n",
    "            \"X-Naver-Client-Secret\":client_secret}\n",
    "\n",
    "params = ((\"source\", \"en\"),\n",
    "            (\"target\", \"ko\"),\n",
    "            (\"text\", encText))\n",
    "\n",
    "response = requests.post(url, data=params, headers=headers)\n",
    "if response.status_code == 200:\n",
    "    response_body = response.json()\n",
    "    print(response_body[u'message'][u'result'][u'translatedText'])"
   ]
  },
  {
   "cell_type": "code",
   "execution_count": null,
   "metadata": {},
   "outputs": [],
   "source": []
  }
 ],
 "metadata": {
  "kernelspec": {
   "display_name": "Python 3",
   "language": "python",
   "name": "python3"
  },
  "language_info": {
   "codemirror_mode": {
    "name": "ipython",
    "version": 3
   },
   "file_extension": ".py",
   "mimetype": "text/x-python",
   "name": "python",
   "nbconvert_exporter": "python",
   "pygments_lexer": "ipython3",
   "version": "3.7.3"
  }
 },
 "nbformat": 4,
 "nbformat_minor": 2
}
