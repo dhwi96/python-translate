{
 "cells": [
  {
   "cell_type": "code",
   "execution_count": 2,
   "metadata": {},
   "outputs": [
    {
     "name": "stdout",
     "output_type": "stream",
     "text": [
      "======================= Original Text =======================\n",
      "We are accustomed to thinking of light as always going in\n",
      "straight lines. But it doesn’t. This is manifest when you view a\n",
      "mirage on a long straight highway on a hot day. The road looks\n",
      "wet way up ahead because light from the sky refracts, bending\n",
      "as it crosses the many successive layers of warm air near the\n",
      "surface of the road, until it heads back up to your eye.\n",
      "\n",
      " \n",
      "\n",
      "The French mathematician Pierre de Fermat showed\n",
      "another way to understand this phenomenon. Light travels\n",
      "faster in warmer, less dense air than it does in colder air.\n",
      "Because the warmest air is near the surface, the light takes\n",
      "less time to get to your eye if it travels down near the\n",
      "ground and then returns up to your eye than it would if it\n",
      "came directly in a straight line to your eye. Fermat\n",
      "formulated a principle, which says that, to determine the\n",
      "\n",
      "ultimate path of any light ray, you simply need to examine all\n",
      "possible paths from A to B and find the one that takes the\n",
      "least time.\n",
      "=============================================================\n",
      " \n",
      "======================= Original Text =======================\n",
      "우리는 언제나처럼 빛을 생각하는 것에 익숙합니다.\n",
      "직선. 그러나 그렇지 않습니다. 이것은 당신이\n",
      "뜨거운 하루에 긴 똑바로 고속도로에서 신기루. 도로 모습\n",
      "하늘로부터의 빛이 굴절하고 굽혀지기 때문에 앞쪽으로 젖은 길\n",
      "그것은 따뜻한 공기의 많은 연속적인 층들을\n",
      "눈앞까지 도로의 표면.\n",
      "\n",
      " \n",
      "\n",
      "프랑스의 수학자 Pierre de Fermat는\n",
      "이 현상을 이해하는 다른 방법. 빛은 여행한다.\n",
      "보다 추운 날씨보다 더 따뜻하고, 밀도가 낮은 공기에서 더 빠릅니다.\n",
      "가장 따뜻한 공기가 표면 근처에 있기 때문에 빛은\n",
      "그것이 눈 아래로 내려 가면 눈이 멀어집니다.\n",
      "땅에 닿은 다음 눈에 다시 올 때보다\n",
      "당신의 눈에 직선으로 직접왔다. 페르마\n",
      "결정을 내리는 원리를 공식화했다.\n",
      "\n",
      "모든 광선의 궁극적 인 경로, 단순히 모든 것을 조사해야합니다.\n",
      "가능한 경로를 A에서 B까지 찾아서\n",
      "최소 시간.\n",
      "=============================================================\n"
     ]
    }
   ],
   "source": [
    "# # En-Ko translating by using Pytesseract & Google Translating \n",
    "\n",
    "import os \n",
    "import sys\n",
    "import urllib.request\n",
    "from googletrans import Translator\n",
    "\n",
    "# 1 . Using Pytesseract to extract text in Original IMG   \n",
    "#-------------------------------------------------------------------------\n",
    "try:\n",
    "    from PIL import Image\n",
    "except ImportError:\n",
    "    import Image\n",
    "import pytesseract\n",
    "\n",
    "pytesseract.pytesseract.tesseract_cmd = (r'C:\\Program Files\\Tesseract-OCR\\tesseract.exe')\n",
    "print(\"======================= Original Text =======================\")\n",
    "print(pytesseract.image_to_string(Image.open(r'C:\\Users\\COMPUTER\\Desktop\\notitle.jpg')))\n",
    "print(\"=============================================================\")\n",
    "print(\" \")\n",
    "#-------------------------------------------------------------------------\n",
    "\n",
    "# 2. Using Google-Translate to translate extracted Text \n",
    "#-------------------------------------------------------------------------\n",
    "translator = Translator()\n",
    "text = pytesseract.image_to_string(r'C:\\Users\\COMPUTER\\Desktop\\notitle.jpg')\n",
    "\n",
    "print(\"======================= Original Text =======================\")\n",
    "print(translator.translate(text, src ='en', dest = 'ko').text)\n",
    "print(\"=============================================================\")\n",
    "#-------------------------------------------------------------------------"
   ]
  },
  {
   "cell_type": "code",
   "execution_count": null,
   "metadata": {},
   "outputs": [],
   "source": []
  }
 ],
 "metadata": {
  "kernelspec": {
   "display_name": "Python 3",
   "language": "python",
   "name": "python3"
  },
  "language_info": {
   "codemirror_mode": {
    "name": "ipython",
    "version": 3
   },
   "file_extension": ".py",
   "mimetype": "text/x-python",
   "name": "python",
   "nbconvert_exporter": "python",
   "pygments_lexer": "ipython3",
   "version": "3.7.3"
  }
 },
 "nbformat": 4,
 "nbformat_minor": 2
}
