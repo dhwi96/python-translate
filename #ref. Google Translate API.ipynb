{
 "cells": [
  {
   "cell_type": "code",
   "execution_count": 32,
   "metadata": {},
   "outputs": [
    {
     "name": "stdout",
     "output_type": "stream",
     "text": [
      "=========== 원문은 다음과 같습니다 ===========\n",
      "We are accustomed to thinking of light as always going in\n",
      "straight lines. But it doesn’t. This is manifest when you view a\n",
      "mirage on a long straight highway on a hot day. The road looks\n",
      "wet way up ahead because light from the sky refracts, bending\n",
      "as it crosses the many successive layers of warm air near the\n",
      "surface of the road, until it heads back up to your eye.\n",
      "\n",
      " \n",
      "\n",
      "The French mathematician Pierre de Fermat showed\n",
      "another way to understand this phenomenon. Light travels\n",
      "faster in warmer, less dense air than it does in colder air.\n",
      "Because the warmest air is near the surface, the light takes\n",
      "less time to get to your eye if it travels down near the\n",
      "ground and then returns up to your eye than it would if it\n",
      "came directly in a straight line to your eye. Fermat\n",
      "formulated a principle, which says that, to determine the\n",
      "\n",
      "ultimate path of any light ray, you simply need to examine all\n",
      "possible paths from A to B and find the one that takes the\n",
      "least time.\n"
     ]
    }
   ],
   "source": [
    "try:\n",
    "    from PIL import Image\n",
    "except ImportError:\n",
    "    import Image\n",
    "import pytesseract\n",
    "\n",
    "pytesseract.pytesseract.tesseract_cmd = (r'C:\\Program Files\\Tesseract-OCR\\tesseract.exe')\n",
    "print(\"=========== 원문은 다음과 같습니다 ===========\")\n",
    "print(pytesseract.image_to_string(Image.open(r'C:\\Users\\COMPUTER\\Desktop\\notitle.jpg')))"
   ]
  },
  {
   "cell_type": "code",
   "execution_count": null,
   "metadata": {},
   "outputs": [],
   "source": []
  }
 ],
 "metadata": {
  "kernelspec": {
   "display_name": "Python 3",
   "language": "python",
   "name": "python3"
  },
  "language_info": {
   "codemirror_mode": {
    "name": "ipython",
    "version": 3
   },
   "file_extension": ".py",
   "mimetype": "text/x-python",
   "name": "python",
   "nbconvert_exporter": "python",
   "pygments_lexer": "ipython3",
   "version": "3.7.3"
  }
 },
 "nbformat": 4,
 "nbformat_minor": 2
}
